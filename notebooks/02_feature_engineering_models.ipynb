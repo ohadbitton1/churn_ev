{
 "cells": [
  {
   "cell_type": "code",
   "execution_count": null,
   "id": "315841e2",
   "metadata": {},
   "outputs": [],
   "source": [
    "# ⬅︎ Cell 1: Imports & Config\n",
    "import os\n",
    "import json\n",
    "import warnings\n",
    "import numpy as np\n",
    "import pandas as pd\n",
    "from sklearn.model_selection import train_test_split, StratifiedKFold\n",
    "from sklearn.pipeline import Pipeline\n",
    "from sklearn.compose import ColumnTransformer, make_column_selector as selector\n",
    "from sklearn.impute import SimpleImputer\n",
    "from sklearn.preprocessing import OneHotEncoder, StandardScaler\n",
    "from sklearn.metrics import roc_auc_score, average_precision_score\n",
    "from sklearn.base import BaseEstimator, TransformerMixin\n",
    "import joblib\n",
    "# מודלים\n",
    "from xgboost import XGBClassifier\n",
    "from lightgbm import LGBMClassifier\n",
    "# Optuna\n",
    "import optuna\n",
    "from optuna.pruners import MedianPruner\n",
    "\n",
    "warnings.filterwarnings(\"ignore\")\n",
    "\n",
    "RANDOM_STATE = 42\n",
    "DATA_PATH = \"../data/raw/telco_churn.csv\"  # התאם אם צריך\n",
    "TARGET_COL = \"Churn\"\n"
   ]
  },
  {
   "cell_type": "code",
   "execution_count": 2,
   "id": "4e561631",
   "metadata": {},
   "outputs": [],
   "source": [
    "# ⬅︎ Cell 2: Load & Basic cleaning\n",
    "df = pd.read_csv(DATA_PATH)\n",
    "\n",
    "# Telco quirks\n",
    "# TotalCharges מגיע כמחרוזת; ננקה לרמה נומרית ונטפל בחסרים\n",
    "df[\"TotalCharges_num\"] = pd.to_numeric(df[\"TotalCharges\"], errors=\"coerce\")\n",
    "mask_na = df[\"TotalCharges_num\"].isna()\n",
    "df.loc[mask_na, \"TotalCharges_num\"] = df.loc[mask_na, \"MonthlyCharges\"] * df.loc[mask_na, \"tenure\"].clip(lower=1)\n",
    "\n",
    "# יעד לבוליאני\n",
    "df[TARGET_COL] = df[TARGET_COL].map({\"Yes\": 1, \"No\": 0}).astype(int)\n",
    "\n",
    "# פיצ’ר־אנג’ינירינג קל בתוך מחלקת טרנספורמר כדי לשלב ב-Pipeline\n",
    "service_cols = [\n",
    "    \"PhoneService\",\"MultipleLines\",\"InternetService\",\"OnlineSecurity\",\"OnlineBackup\",\n",
    "    \"DeviceProtection\",\"TechSupport\",\"StreamingTV\",\"StreamingMovies\"\n",
    "]\n",
    "\n",
    "class AddFeatures(BaseEstimator, TransformerMixin):\n",
    "    def __init__(self, service_cols):\n",
    "        self.service_cols = service_cols\n",
    "    \n",
    "    def fit(self, X, y=None):\n",
    "        return self\n",
    "    \n",
    "    def transform(self, X):\n",
    "        X = X.copy()\n",
    "        # תקופת מנוי בשנים\n",
    "        X[\"tenure_years\"] = X[\"tenure\"] / 12.0\n",
    "        \n",
    "        # יחס חיובים לותק (charge per month בפועל)\n",
    "        X[\"charges_per_tenure\"] = X[\"TotalCharges_num\"] / np.maximum(X[\"tenure\"], 1)\n",
    "        \n",
    "        # ספירת שירותים פעילים (Yes)\n",
    "        def yes(x): \n",
    "            return 1 if str(x).strip().lower()==\"yes\" else 0\n",
    "        X[\"services_count\"] = X[self.service_cols].applymap(yes).sum(axis=1)\n",
    "        \n",
    "        # אינדיקטורים שימושיים\n",
    "        X[\"has_streaming\"] = ((X.get(\"StreamingTV\",\"No\")==\"Yes\") | (X.get(\"StreamingMovies\",\"No\")==\"Yes\")).astype(int)\n",
    "        X[\"has_fiber\"] = (X.get(\"InternetService\",\"None\")==\"Fiber optic\").astype(int)\n",
    "        X[\"is_electronic_check\"] = (X.get(\"PaymentMethod\",\"\").str.contains(\"Electronic check\", case=False, na=False)).astype(int)\n",
    "        X[\"auto_pay\"] = (X.get(\"PaymentMethod\",\"\").str.contains(\"automatic\", case=False, na=False)).astype(int)\n",
    "        \n",
    "        # מיפוי משך חוזה לחודשים\n",
    "        contract_map = {\"Month-to-month\": 1, \"One year\": 12, \"Two year\": 24}\n",
    "        X[\"contract_term\"] = X.get(\"Contract\",\"Month-to-month\").map(contract_map).fillna(1).astype(int)\n",
    "        \n",
    "        # אינטראקציות פשוטות\n",
    "        X[\"monthly_x_term\"] = X[\"MonthlyCharges\"] * X[\"contract_term\"]\n",
    "        X[\"tenure_x_services\"] = X[\"tenure\"] * X[\"services_count\"]\n",
    "        \n",
    "        return X\n"
   ]
  },
  {
   "cell_type": "code",
   "execution_count": 3,
   "id": "00794353",
   "metadata": {},
   "outputs": [
    {
     "data": {
      "text/plain": [
       "2.7691131498470947"
      ]
     },
     "execution_count": 3,
     "metadata": {},
     "output_type": "execute_result"
    }
   ],
   "source": [
    "# ⬅︎ Cell 3: Split\n",
    "X = df.drop(columns=[TARGET_COL])\n",
    "y = df[TARGET_COL].values\n",
    "\n",
    "X_train, X_temp, y_train, y_temp = train_test_split(\n",
    "    X, y, test_size=0.30, stratify=y, random_state=RANDOM_STATE\n",
    ")\n",
    "X_valid, X_test, y_valid, y_test = train_test_split(\n",
    "    X_temp, y_temp, test_size=0.50, stratify=y_temp, random_state=RANDOM_STATE\n",
    ")\n",
    "\n",
    "pos = y_train.sum()\n",
    "neg = len(y_train) - pos\n",
    "scale_pos_weight = neg / max(pos, 1)\n",
    "scale_pos_weight\n"
   ]
  },
  {
   "cell_type": "code",
   "execution_count": 4,
   "id": "6b8cdc0d",
   "metadata": {},
   "outputs": [],
   "source": [
    "# ⬅︎ Cell 4: Preprocessing pipeline\n",
    "feature_adder = AddFeatures(service_cols=service_cols)\n",
    "\n",
    "numeric_proc = Pipeline(steps=[\n",
    "    (\"imputer\", SimpleImputer(strategy=\"median\")),\n",
    "    (\"scaler\", StandardScaler(with_mean=False))  # with_mean=False לשילוב עם sparse\n",
    "])\n",
    "\n",
    "categorical_proc = Pipeline(steps=[\n",
    "    (\"imputer\", SimpleImputer(strategy=\"most_frequent\")),\n",
    "    (\"onehot\", OneHotEncoder(handle_unknown=\"ignore\"))\n",
    "])\n",
    "\n",
    "preprocessor = ColumnTransformer(\n",
    "    transformers=[\n",
    "        (\"num\", numeric_proc, selector(dtype_include=[\"int64\",\"float64\",\"int32\",\"float32\",\"uint8\",\"bool\"])),\n",
    "        (\"cat\", categorical_proc, selector(dtype_include=object))\n",
    "    ],\n",
    "    remainder=\"drop\"\n",
    ")\n",
    "\n",
    "# נבנה Pipeline כללי: add features -> preprocess -> model (יוחדר בדינמיות)\n",
    "def make_pipeline(model):\n",
    "    return Pipeline(steps=[\n",
    "        (\"add\", feature_adder),\n",
    "        (\"prep\", preprocessor),\n",
    "        (\"model\", model)\n",
    "    ])\n"
   ]
  },
  {
   "cell_type": "code",
   "execution_count": 5,
   "id": "3b114a43",
   "metadata": {},
   "outputs": [],
   "source": [
    "# ⬅︎ Cell 5: Eval helper\n",
    "def evaluate(model, X_tr, y_tr, X_va, y_va):\n",
    "    proba_tr = model.predict_proba(X_tr)[:,1]\n",
    "    proba_va = model.predict_proba(X_va)[:,1]\n",
    "    metrics = {\n",
    "        \"roc_auc_train\": roc_auc_score(y_tr, proba_tr),\n",
    "        \"pr_auc_train\":  average_precision_score(y_tr, proba_tr),\n",
    "        \"roc_auc_valid\": roc_auc_score(y_va, proba_va),\n",
    "        \"pr_auc_valid\":  average_precision_score(y_va, proba_va),\n",
    "    }\n",
    "    return metrics\n"
   ]
  },
  {
   "cell_type": "code",
   "execution_count": 6,
   "id": "0700b4db",
   "metadata": {},
   "outputs": [],
   "source": [
    "# ⬅︎ Cell 6: Optuna objective (5-fold CV on train)\n",
    "cv = StratifiedKFold(n_splits=5, shuffle=True, random_state=RANDOM_STATE)\n",
    "\n",
    "def objective(trial):\n",
    "    model_type = trial.suggest_categorical(\"model_type\", [\"xgb\", \"lgbm\"])\n",
    "    \n",
    "    if model_type == \"xgb\":\n",
    "        params = {\n",
    "            \"n_estimators\": trial.suggest_int(\"xgb_n_estimators\", 200, 800),\n",
    "            \"max_depth\": trial.suggest_int(\"xgb_max_depth\", 3, 8),\n",
    "            \"learning_rate\": trial.suggest_float(\"xgb_lr\", 1e-2, 3e-1, log=True),\n",
    "            \"subsample\": trial.suggest_float(\"xgb_subsample\", 0.6, 1.0),\n",
    "            \"colsample_bytree\": trial.suggest_float(\"xgb_colsample\", 0.6, 1.0),\n",
    "            \"reg_alpha\": trial.suggest_float(\"xgb_alpha\", 1e-8, 10.0, log=True),\n",
    "            \"reg_lambda\": trial.suggest_float(\"xgb_lambda\", 1e-8, 10.0, log=True),\n",
    "            \"min_child_weight\": trial.suggest_int(\"xgb_min_child_weight\", 1, 10),\n",
    "            \"gamma\": trial.suggest_float(\"xgb_gamma\", 0.0, 5.0),\n",
    "            \"random_state\": RANDOM_STATE,\n",
    "            \"n_jobs\": -1,\n",
    "            \"objective\": \"binary:logistic\",\n",
    "            \"tree_method\": \"hist\",\n",
    "            \"eval_metric\": \"aucpr\",\n",
    "            \"scale_pos_weight\": scale_pos_weight\n",
    "        }\n",
    "        base_model = XGBClassifier(**params)\n",
    "    else:\n",
    "        params = {\n",
    "            \"n_estimators\": trial.suggest_int(\"lgbm_n_estimators\", 300, 1000),\n",
    "            \"num_leaves\": trial.suggest_int(\"lgbm_num_leaves\", 31, 255),\n",
    "            \"learning_rate\": trial.suggest_float(\"lgbm_lr\", 1e-2, 3e-1, log=True),\n",
    "            \"subsample\": trial.suggest_float(\"lgbm_subsample\", 0.5, 1.0),\n",
    "            \"colsample_bytree\": trial.suggest_float(\"lgbm_colsample\", 0.5, 1.0),\n",
    "            \"min_child_samples\": trial.suggest_int(\"lgbm_min_child_samples\", 5, 100),\n",
    "            \"reg_alpha\": trial.suggest_float(\"lgbm_alpha\", 1e-8, 10.0, log=True),\n",
    "            \"reg_lambda\": trial.suggest_float(\"lgbm_lambda\", 1e-8, 10.0, log=True),\n",
    "            \"random_state\": RANDOM_STATE,\n",
    "            \"n_jobs\": -1,\n",
    "            \"objective\": \"binary\",\n",
    "            \"metric\": \"average_precision\",\n",
    "            \"verbose\": -1,\n",
    "            \"scale_pos_weight\": scale_pos_weight\n",
    "        }\n",
    "        base_model = LGBMClassifier(**params)\n",
    "    \n",
    "    pipe = make_pipeline(base_model)\n",
    "\n",
    "    pr_aucs = []\n",
    "    for fold, (tr_idx, va_idx) in enumerate(cv.split(X_train, y_train), start=1):\n",
    "        X_tr, X_va = X_train.iloc[tr_idx], X_train.iloc[va_idx]\n",
    "        y_tr, y_va = y_train[tr_idx], y_train[va_idx]\n",
    "\n",
    "        pipe.fit(X_tr, y_tr)\n",
    "        proba = pipe.predict_proba(X_va)[:, 1]\n",
    "        pr_auc = average_precision_score(y_va, proba)\n",
    "        pr_aucs.append(pr_auc)\n",
    "        \n",
    "        trial.report(np.mean(pr_aucs), step=fold)\n",
    "        if trial.should_prune():\n",
    "            raise optuna.TrialPruned()\n",
    "    \n",
    "    return float(np.mean(pr_aucs))\n"
   ]
  },
  {
   "cell_type": "code",
   "execution_count": 7,
   "id": "793e9e67",
   "metadata": {},
   "outputs": [
    {
     "name": "stderr",
     "output_type": "stream",
     "text": [
      "[I 2025-08-30 20:01:44,262] A new study created in memory with name: no-name-47eb74f8-920a-4f33-ac8e-8a16b61f3572\n",
      "Best trial: 0. Best value: 0.58022:   2%|▎         | 1/40 [00:07<04:51,  7.47s/it]"
     ]
    },
    {
     "name": "stdout",
     "output_type": "stream",
     "text": [
      "[I 2025-08-30 20:01:51,733] Trial 0 finished with value: 0.5802196151770449 and parameters: {'model_type': 'lgbm', 'lgbm_n_estimators': 899, 'lgbm_num_leaves': 175, 'lgbm_lr': 0.16126147911448108, 'lgbm_subsample': 0.9292528655795912, 'lgbm_colsample': 0.8620782818264461, 'lgbm_min_child_samples': 50, 'lgbm_alpha': 9.392959240742093e-05, 'lgbm_lambda': 0.00406647984315883}. Best is trial 0 with value: 0.5802196151770449.\n"
     ]
    },
    {
     "name": "stderr",
     "output_type": "stream",
     "text": [
      "Best trial: 1. Best value: 0.626587:   5%|▌         | 2/40 [00:11<03:17,  5.20s/it]"
     ]
    },
    {
     "name": "stdout",
     "output_type": "stream",
     "text": [
      "[I 2025-08-30 20:01:55,348] Trial 1 finished with value: 0.6265870801208628 and parameters: {'model_type': 'lgbm', 'lgbm_n_estimators': 756, 'lgbm_num_leaves': 58, 'lgbm_lr': 0.03157870399942338, 'lgbm_subsample': 0.7369003632320126, 'lgbm_colsample': 0.6251482979911165, 'lgbm_min_child_samples': 81, 'lgbm_alpha': 0.00034240966258748066, 'lgbm_lambda': 2.645081158570957e-07}. Best is trial 1 with value: 0.6265870801208628.\n"
     ]
    },
    {
     "name": "stderr",
     "output_type": "stream",
     "text": [
      "Best trial: 2. Best value: 0.650662:   8%|▊         | 3/40 [00:13<02:24,  3.91s/it]"
     ]
    },
    {
     "name": "stdout",
     "output_type": "stream",
     "text": [
      "[I 2025-08-30 20:01:57,712] Trial 2 finished with value: 0.6506616029291081 and parameters: {'model_type': 'xgb', 'xgb_n_estimators': 308, 'xgb_max_depth': 5, 'xgb_lr': 0.24984116262333178, 'xgb_subsample': 0.9640247752119213, 'xgb_colsample': 0.6163980054378699, 'xgb_alpha': 0.6959004804688235, 'xgb_lambda': 0.0025253533861880942, 'xgb_min_child_weight': 6, 'xgb_gamma': 1.3428037769064816}. Best is trial 2 with value: 0.6506616029291081.\n"
     ]
    },
    {
     "name": "stderr",
     "output_type": "stream",
     "text": [
      "Best trial: 2. Best value: 0.650662:  10%|█         | 4/40 [00:18<02:41,  4.48s/it]"
     ]
    },
    {
     "name": "stdout",
     "output_type": "stream",
     "text": [
      "[I 2025-08-30 20:02:03,082] Trial 3 finished with value: 0.5732173983872716 and parameters: {'model_type': 'lgbm', 'lgbm_n_estimators': 737, 'lgbm_num_leaves': 127, 'lgbm_lr': 0.1803110035980306, 'lgbm_subsample': 0.5507898611253473, 'lgbm_colsample': 0.974501180163092, 'lgbm_min_child_samples': 73, 'lgbm_alpha': 0.00055256440201886, 'lgbm_lambda': 0.002751794644092757}. Best is trial 2 with value: 0.6506616029291081.\n"
     ]
    },
    {
     "name": "stderr",
     "output_type": "stream",
     "text": [
      "Best trial: 2. Best value: 0.650662:  12%|█▎        | 5/40 [00:22<02:20,  4.02s/it]"
     ]
    },
    {
     "name": "stdout",
     "output_type": "stream",
     "text": [
      "[I 2025-08-30 20:02:06,272] Trial 4 finished with value: 0.607046140456428 and parameters: {'model_type': 'lgbm', 'lgbm_n_estimators': 311, 'lgbm_num_leaves': 144, 'lgbm_lr': 0.13657230401614484, 'lgbm_subsample': 0.7489991024163175, 'lgbm_colsample': 0.7734012845236162, 'lgbm_min_child_samples': 71, 'lgbm_alpha': 0.00028505817709386104, 'lgbm_lambda': 1.1833803940478857e-07}. Best is trial 2 with value: 0.6506616029291081.\n"
     ]
    },
    {
     "name": "stderr",
     "output_type": "stream",
     "text": [
      "Best trial: 2. Best value: 0.650662:  15%|█▌        | 6/40 [00:23<01:52,  3.30s/it]"
     ]
    },
    {
     "name": "stdout",
     "output_type": "stream",
     "text": [
      "[I 2025-08-30 20:02:08,180] Trial 5 pruned. \n"
     ]
    },
    {
     "name": "stderr",
     "output_type": "stream",
     "text": [
      "Best trial: 6. Best value: 0.666212:  18%|█▊        | 7/40 [00:33<02:56,  5.34s/it]"
     ]
    },
    {
     "name": "stdout",
     "output_type": "stream",
     "text": [
      "[I 2025-08-30 20:02:17,710] Trial 6 finished with value: 0.6662122204175436 and parameters: {'model_type': 'xgb', 'xgb_n_estimators': 759, 'xgb_max_depth': 5, 'xgb_lr': 0.021402863195369392, 'xgb_subsample': 0.7877274672271997, 'xgb_colsample': 0.7541871116634934, 'xgb_alpha': 0.004880891308414537, 'xgb_lambda': 0.07489029518524612, 'xgb_min_child_weight': 7, 'xgb_gamma': 3.411025413028421}. Best is trial 6 with value: 0.6662122204175436.\n"
     ]
    },
    {
     "name": "stderr",
     "output_type": "stream",
     "text": [
      "Best trial: 7. Best value: 0.668617:  20%|██        | 8/40 [00:43<03:43,  6.98s/it]"
     ]
    },
    {
     "name": "stdout",
     "output_type": "stream",
     "text": [
      "[I 2025-08-30 20:02:28,203] Trial 7 finished with value: 0.6686173085071581 and parameters: {'model_type': 'xgb', 'xgb_n_estimators': 295, 'xgb_max_depth': 6, 'xgb_lr': 0.011215013204143432, 'xgb_subsample': 0.6406242991999294, 'xgb_colsample': 0.6749075316191062, 'xgb_alpha': 1.186251597200353e-05, 'xgb_lambda': 0.00019667873899066994, 'xgb_min_child_weight': 2, 'xgb_gamma': 1.6965925200062448}. Best is trial 7 with value: 0.6686173085071581.\n"
     ]
    },
    {
     "name": "stderr",
     "output_type": "stream",
     "text": [
      "Best trial: 7. Best value: 0.668617:  22%|██▎       | 9/40 [00:45<02:41,  5.20s/it]"
     ]
    },
    {
     "name": "stdout",
     "output_type": "stream",
     "text": [
      "[I 2025-08-30 20:02:29,482] Trial 8 pruned. \n"
     ]
    },
    {
     "name": "stderr",
     "output_type": "stream",
     "text": [
      "Best trial: 9. Best value: 0.670756:  25%|██▌       | 10/40 [00:50<02:37,  5.24s/it]"
     ]
    },
    {
     "name": "stdout",
     "output_type": "stream",
     "text": [
      "[I 2025-08-30 20:02:34,819] Trial 9 finished with value: 0.6707563664807674 and parameters: {'model_type': 'xgb', 'xgb_n_estimators': 380, 'xgb_max_depth': 3, 'xgb_lr': 0.011223932063958247, 'xgb_subsample': 0.7713718912140309, 'xgb_colsample': 0.9418656817480863, 'xgb_alpha': 7.058033539491168e-08, 'xgb_lambda': 0.00014801570804099607, 'xgb_min_child_weight': 9, 'xgb_gamma': 0.3636009522477901}. Best is trial 9 with value: 0.6707563664807674.\n"
     ]
    },
    {
     "name": "stderr",
     "output_type": "stream",
     "text": [
      "Best trial: 10. Best value: 0.671221:  28%|██▊       | 11/40 [00:55<02:33,  5.29s/it]"
     ]
    },
    {
     "name": "stdout",
     "output_type": "stream",
     "text": [
      "[I 2025-08-30 20:02:40,218] Trial 10 finished with value: 0.6712214030830241 and parameters: {'model_type': 'xgb', 'xgb_n_estimators': 461, 'xgb_max_depth': 3, 'xgb_lr': 0.039122466726426657, 'xgb_subsample': 0.7725953487820547, 'xgb_colsample': 0.9838373738836463, 'xgb_alpha': 1.3279441034994423e-08, 'xgb_lambda': 6.871020925721481e-07, 'xgb_min_child_weight': 10, 'xgb_gamma': 4.8565974930513764}. Best is trial 10 with value: 0.6712214030830241.\n"
     ]
    },
    {
     "name": "stderr",
     "output_type": "stream",
     "text": [
      "Best trial: 10. Best value: 0.671221:  30%|███       | 12/40 [01:01<02:32,  5.44s/it]"
     ]
    },
    {
     "name": "stdout",
     "output_type": "stream",
     "text": [
      "[I 2025-08-30 20:02:45,993] Trial 11 finished with value: 0.6706816806187561 and parameters: {'model_type': 'xgb', 'xgb_n_estimators': 457, 'xgb_max_depth': 3, 'xgb_lr': 0.04299831470530539, 'xgb_subsample': 0.7703507174638998, 'xgb_colsample': 0.9714162137360043, 'xgb_alpha': 1.0370224540744482e-08, 'xgb_lambda': 5.749096104173173e-07, 'xgb_min_child_weight': 10, 'xgb_gamma': 4.962011826024938}. Best is trial 10 with value: 0.6712214030830241.\n"
     ]
    },
    {
     "name": "stderr",
     "output_type": "stream",
     "text": [
      "Best trial: 10. Best value: 0.671221:  32%|███▎      | 13/40 [01:09<02:43,  6.06s/it]"
     ]
    },
    {
     "name": "stdout",
     "output_type": "stream",
     "text": [
      "[I 2025-08-30 20:02:53,494] Trial 12 finished with value: 0.6619211004914793 and parameters: {'model_type': 'xgb', 'xgb_n_estimators': 464, 'xgb_max_depth': 3, 'xgb_lr': 0.06237489183042325, 'xgb_subsample': 0.7063406496439146, 'xgb_colsample': 0.9873932296051184, 'xgb_alpha': 1.1880569498513635e-08, 'xgb_lambda': 2.595860388975485e-05, 'xgb_min_child_weight': 10, 'xgb_gamma': 3.1322236302805955}. Best is trial 10 with value: 0.6712214030830241.\n"
     ]
    },
    {
     "name": "stderr",
     "output_type": "stream",
     "text": [
      "Best trial: 10. Best value: 0.671221:  35%|███▌      | 14/40 [01:17<02:57,  6.84s/it]"
     ]
    },
    {
     "name": "stdout",
     "output_type": "stream",
     "text": [
      "[I 2025-08-30 20:03:02,148] Trial 13 pruned. \n"
     ]
    },
    {
     "name": "stderr",
     "output_type": "stream",
     "text": [
      "Best trial: 10. Best value: 0.671221:  38%|███▊      | 15/40 [01:24<02:47,  6.68s/it]"
     ]
    },
    {
     "name": "stdout",
     "output_type": "stream",
     "text": [
      "[I 2025-08-30 20:03:08,463] Trial 14 finished with value: 0.6682033056632994 and parameters: {'model_type': 'xgb', 'xgb_n_estimators': 585, 'xgb_max_depth': 4, 'xgb_lr': 0.04997172781825461, 'xgb_subsample': 0.8427633196644202, 'xgb_colsample': 0.8948738970395248, 'xgb_alpha': 8.324176758593911e-07, 'xgb_lambda': 1.0222189744053295e-08, 'xgb_min_child_weight': 9, 'xgb_gamma': 4.9530253374023925}. Best is trial 10 with value: 0.6712214030830241.\n"
     ]
    },
    {
     "name": "stderr",
     "output_type": "stream",
     "text": [
      "Best trial: 10. Best value: 0.671221:  40%|████      | 16/40 [01:30<02:38,  6.62s/it]"
     ]
    },
    {
     "name": "stdout",
     "output_type": "stream",
     "text": [
      "[I 2025-08-30 20:03:14,939] Trial 15 finished with value: 0.6708387537296489 and parameters: {'model_type': 'xgb', 'xgb_n_estimators': 212, 'xgb_max_depth': 4, 'xgb_lr': 0.02144012849435319, 'xgb_subsample': 0.7102666688858237, 'xgb_colsample': 0.8959578568136578, 'xgb_alpha': 2.0073616453937027e-07, 'xgb_lambda': 2.137780738878139, 'xgb_min_child_weight': 5, 'xgb_gamma': 3.6980553441231745}. Best is trial 10 with value: 0.6712214030830241.\n"
     ]
    },
    {
     "name": "stderr",
     "output_type": "stream",
     "text": [
      "Best trial: 16. Best value: 0.672963:  42%|████▎     | 17/40 [01:35<02:22,  6.22s/it]"
     ]
    },
    {
     "name": "stdout",
     "output_type": "stream",
     "text": [
      "[I 2025-08-30 20:03:20,208] Trial 16 finished with value: 0.6729633709471536 and parameters: {'model_type': 'xgb', 'xgb_n_estimators': 201, 'xgb_max_depth': 4, 'xgb_lr': 0.026604318470071057, 'xgb_subsample': 0.6794910626490949, 'xgb_colsample': 0.8538589681187536, 'xgb_alpha': 0.00012548964513500356, 'xgb_lambda': 8.088844275488134, 'xgb_min_child_weight': 4, 'xgb_gamma': 3.9520539561675396}. Best is trial 16 with value: 0.6729633709471536.\n"
     ]
    },
    {
     "name": "stderr",
     "output_type": "stream",
     "text": [
      "Best trial: 16. Best value: 0.672963:  45%|████▌     | 18/40 [01:37<01:44,  4.76s/it]"
     ]
    },
    {
     "name": "stdout",
     "output_type": "stream",
     "text": [
      "[I 2025-08-30 20:03:21,591] Trial 17 pruned. \n"
     ]
    },
    {
     "name": "stderr",
     "output_type": "stream",
     "text": [
      "Best trial: 16. Best value: 0.672963:  48%|████▊     | 19/40 [01:39<01:24,  4.01s/it]"
     ]
    },
    {
     "name": "stdout",
     "output_type": "stream",
     "text": [
      "[I 2025-08-30 20:03:23,851] Trial 18 pruned. \n"
     ]
    },
    {
     "name": "stderr",
     "output_type": "stream",
     "text": [
      "Best trial: 16. Best value: 0.672963:  50%|█████     | 20/40 [01:46<01:35,  4.79s/it]"
     ]
    },
    {
     "name": "stdout",
     "output_type": "stream",
     "text": [
      "[I 2025-08-30 20:03:30,439] Trial 19 finished with value: 0.6692176733187226 and parameters: {'model_type': 'xgb', 'xgb_n_estimators': 247, 'xgb_max_depth': 4, 'xgb_lr': 0.03239926683832711, 'xgb_subsample': 0.7254137282815938, 'xgb_colsample': 0.9297701549470863, 'xgb_alpha': 7.096496843371748e-05, 'xgb_lambda': 0.33580025716390627, 'xgb_min_child_weight': 1, 'xgb_gamma': 4.196170942332686}. Best is trial 16 with value: 0.6729633709471536.\n"
     ]
    },
    {
     "name": "stderr",
     "output_type": "stream",
     "text": [
      "Best trial: 16. Best value: 0.672963:  52%|█████▎    | 21/40 [01:48<01:16,  4.03s/it]"
     ]
    },
    {
     "name": "stdout",
     "output_type": "stream",
     "text": [
      "[I 2025-08-30 20:03:32,726] Trial 20 pruned. \n"
     ]
    },
    {
     "name": "stderr",
     "output_type": "stream",
     "text": [
      "Best trial: 16. Best value: 0.672963:  55%|█████▌    | 22/40 [01:54<01:22,  4.58s/it]"
     ]
    },
    {
     "name": "stdout",
     "output_type": "stream",
     "text": [
      "[I 2025-08-30 20:03:38,583] Trial 21 finished with value: 0.6682757406690165 and parameters: {'model_type': 'xgb', 'xgb_n_estimators': 204, 'xgb_max_depth': 4, 'xgb_lr': 0.01791010013357103, 'xgb_subsample': 0.6668554462096298, 'xgb_colsample': 0.8925377541571926, 'xgb_alpha': 2.797754586977561e-07, 'xgb_lambda': 9.96570989817957, 'xgb_min_child_weight': 5, 'xgb_gamma': 3.5046236293504895}. Best is trial 16 with value: 0.6729633709471536.\n"
     ]
    },
    {
     "name": "stderr",
     "output_type": "stream",
     "text": [
      "Best trial: 16. Best value: 0.672963:  57%|█████▊    | 23/40 [02:02<01:35,  5.64s/it]"
     ]
    },
    {
     "name": "stdout",
     "output_type": "stream",
     "text": [
      "[I 2025-08-30 20:03:46,675] Trial 22 finished with value: 0.6704913721141736 and parameters: {'model_type': 'xgb', 'xgb_n_estimators': 201, 'xgb_max_depth': 5, 'xgb_lr': 0.02040947274792727, 'xgb_subsample': 0.7270359919234385, 'xgb_colsample': 0.8556522594561796, 'xgb_alpha': 5.461283616322755e-06, 'xgb_lambda': 0.6675281898211727, 'xgb_min_child_weight': 6, 'xgb_gamma': 2.7718499376976564}. Best is trial 16 with value: 0.6729633709471536.\n"
     ]
    },
    {
     "name": "stderr",
     "output_type": "stream",
     "text": [
      "Best trial: 16. Best value: 0.672963:  60%|██████    | 24/40 [02:03<01:08,  4.28s/it]"
     ]
    },
    {
     "name": "stdout",
     "output_type": "stream",
     "text": [
      "[I 2025-08-30 20:03:47,787] Trial 23 pruned. \n"
     ]
    },
    {
     "name": "stderr",
     "output_type": "stream",
     "text": [
      "Best trial: 16. Best value: 0.672963:  62%|██████▎   | 25/40 [02:04<00:49,  3.32s/it]"
     ]
    },
    {
     "name": "stdout",
     "output_type": "stream",
     "text": [
      "[I 2025-08-30 20:03:48,865] Trial 24 pruned. \n"
     ]
    },
    {
     "name": "stderr",
     "output_type": "stream",
     "text": [
      "Best trial: 16. Best value: 0.672963:  65%|██████▌   | 26/40 [02:09<00:53,  3.85s/it]"
     ]
    },
    {
     "name": "stdout",
     "output_type": "stream",
     "text": [
      "[I 2025-08-30 20:03:53,961] Trial 25 finished with value: 0.6690751918626568 and parameters: {'model_type': 'xgb', 'xgb_n_estimators': 248, 'xgb_max_depth': 4, 'xgb_lr': 0.016091810459226148, 'xgb_subsample': 0.8209077625782829, 'xgb_colsample': 0.8508269066540279, 'xgb_alpha': 8.015797255065084e-08, 'xgb_lambda': 2.400941519258643, 'xgb_min_child_weight': 7, 'xgb_gamma': 4.586909187185974}. Best is trial 16 with value: 0.6729633709471536.\n"
     ]
    },
    {
     "name": "stderr",
     "output_type": "stream",
     "text": [
      "Best trial: 16. Best value: 0.672963:  68%|██████▊   | 27/40 [02:10<00:37,  2.92s/it]"
     ]
    },
    {
     "name": "stdout",
     "output_type": "stream",
     "text": [
      "[I 2025-08-30 20:03:54,708] Trial 26 pruned. \n"
     ]
    },
    {
     "name": "stderr",
     "output_type": "stream",
     "text": [
      "Best trial: 16. Best value: 0.672963:  70%|███████   | 28/40 [02:12<00:32,  2.68s/it]"
     ]
    },
    {
     "name": "stdout",
     "output_type": "stream",
     "text": [
      "[I 2025-08-30 20:03:56,814] Trial 27 pruned. \n"
     ]
    },
    {
     "name": "stderr",
     "output_type": "stream",
     "text": [
      "Best trial: 16. Best value: 0.672963:  72%|███████▎  | 29/40 [02:21<00:49,  4.46s/it]"
     ]
    },
    {
     "name": "stdout",
     "output_type": "stream",
     "text": [
      "[I 2025-08-30 20:04:05,445] Trial 28 finished with value: 0.671860375896944 and parameters: {'model_type': 'xgb', 'xgb_n_estimators': 673, 'xgb_max_depth': 3, 'xgb_lr': 0.014505327605514665, 'xgb_subsample': 0.7556588147970215, 'xgb_colsample': 0.877986222639177, 'xgb_alpha': 0.0009392912662014197, 'xgb_lambda': 0.09907253074611642, 'xgb_min_child_weight': 7, 'xgb_gamma': 2.242221440934748}. Best is trial 16 with value: 0.6729633709471536.\n"
     ]
    },
    {
     "name": "stderr",
     "output_type": "stream",
     "text": [
      "Best trial: 16. Best value: 0.672963:  75%|███████▌  | 30/40 [02:21<00:33,  3.31s/it]"
     ]
    },
    {
     "name": "stdout",
     "output_type": "stream",
     "text": [
      "[I 2025-08-30 20:04:06,064] Trial 29 pruned. \n"
     ]
    },
    {
     "name": "stderr",
     "output_type": "stream",
     "text": [
      "Best trial: 16. Best value: 0.672963:  78%|███████▊  | 31/40 [02:29<00:41,  4.56s/it]"
     ]
    },
    {
     "name": "stdout",
     "output_type": "stream",
     "text": [
      "[I 2025-08-30 20:04:13,531] Trial 30 finished with value: 0.667340567913831 and parameters: {'model_type': 'xgb', 'xgb_n_estimators': 654, 'xgb_max_depth': 3, 'xgb_lr': 0.030143991510030874, 'xgb_subsample': 0.7547939506013681, 'xgb_colsample': 0.799064392623379, 'xgb_alpha': 0.0011033740856710948, 'xgb_lambda': 0.0010960337454006485, 'xgb_min_child_weight': 8, 'xgb_gamma': 2.1276668706263973}. Best is trial 16 with value: 0.6729633709471536.\n"
     ]
    },
    {
     "name": "stderr",
     "output_type": "stream",
     "text": [
      "Best trial: 16. Best value: 0.672963:  80%|████████  | 32/40 [02:41<00:53,  6.74s/it]"
     ]
    },
    {
     "name": "stdout",
     "output_type": "stream",
     "text": [
      "[I 2025-08-30 20:04:25,380] Trial 31 finished with value: 0.6691768257552213 and parameters: {'model_type': 'xgb', 'xgb_n_estimators': 776, 'xgb_max_depth': 3, 'xgb_lr': 0.015365227912833707, 'xgb_subsample': 0.6894647533427344, 'xgb_colsample': 0.8798523825013357, 'xgb_alpha': 7.824568151802178e-05, 'xgb_lambda': 0.06424719958463297, 'xgb_min_child_weight': 5, 'xgb_gamma': 3.015618081919194}. Best is trial 16 with value: 0.6729633709471536.\n"
     ]
    },
    {
     "name": "stderr",
     "output_type": "stream",
     "text": [
      "Best trial: 16. Best value: 0.672963:  82%|████████▎ | 33/40 [02:43<00:37,  5.37s/it]"
     ]
    },
    {
     "name": "stdout",
     "output_type": "stream",
     "text": [
      "[I 2025-08-30 20:04:27,545] Trial 32 pruned. \n"
     ]
    },
    {
     "name": "stderr",
     "output_type": "stream",
     "text": [
      "Best trial: 16. Best value: 0.672963:  85%|████████▌ | 34/40 [02:53<00:40,  6.80s/it]"
     ]
    },
    {
     "name": "stdout",
     "output_type": "stream",
     "text": [
      "[I 2025-08-30 20:04:37,682] Trial 33 finished with value: 0.6693672259261702 and parameters: {'model_type': 'xgb', 'xgb_n_estimators': 656, 'xgb_max_depth': 3, 'xgb_lr': 0.014218732225014652, 'xgb_subsample': 0.8449091810779092, 'xgb_colsample': 0.8563443463088936, 'xgb_alpha': 2.7303176375841826e-08, 'xgb_lambda': 0.18968436603121422, 'xgb_min_child_weight': 6, 'xgb_gamma': 4.6343677991853705}. Best is trial 16 with value: 0.6729633709471536.\n"
     ]
    },
    {
     "name": "stderr",
     "output_type": "stream",
     "text": [
      "Best trial: 16. Best value: 0.672963:  88%|████████▊ | 35/40 [02:54<00:25,  5.11s/it]"
     ]
    },
    {
     "name": "stdout",
     "output_type": "stream",
     "text": [
      "[I 2025-08-30 20:04:38,851] Trial 34 pruned. \n"
     ]
    },
    {
     "name": "stderr",
     "output_type": "stream",
     "text": [
      "Best trial: 16. Best value: 0.672963:  90%|█████████ | 36/40 [02:56<00:16,  4.16s/it]"
     ]
    },
    {
     "name": "stdout",
     "output_type": "stream",
     "text": [
      "[I 2025-08-30 20:04:40,797] Trial 35 pruned. \n"
     ]
    },
    {
     "name": "stderr",
     "output_type": "stream",
     "text": [
      "Best trial: 16. Best value: 0.672963:  92%|█████████▎| 37/40 [02:57<00:09,  3.28s/it]"
     ]
    },
    {
     "name": "stdout",
     "output_type": "stream",
     "text": [
      "[I 2025-08-30 20:04:42,013] Trial 36 pruned. \n"
     ]
    },
    {
     "name": "stderr",
     "output_type": "stream",
     "text": [
      "Best trial: 16. Best value: 0.672963:  95%|█████████▌| 38/40 [03:04<00:08,  4.24s/it]"
     ]
    },
    {
     "name": "stdout",
     "output_type": "stream",
     "text": [
      "[I 2025-08-30 20:04:48,487] Trial 37 finished with value: 0.6720757078534583 and parameters: {'model_type': 'xgb', 'xgb_n_estimators': 477, 'xgb_max_depth': 3, 'xgb_lr': 0.013436047448706563, 'xgb_subsample': 0.636385375546444, 'xgb_colsample': 0.7955327293112278, 'xgb_alpha': 0.03946320789636545, 'xgb_lambda': 1.3706944695549545e-08, 'xgb_min_child_weight': 8, 'xgb_gamma': 1.8888131891350917}. Best is trial 16 with value: 0.6729633709471536.\n"
     ]
    },
    {
     "name": "stderr",
     "output_type": "stream",
     "text": [
      "Best trial: 16. Best value: 0.672963:  98%|█████████▊| 39/40 [03:10<00:04,  4.86s/it]"
     ]
    },
    {
     "name": "stdout",
     "output_type": "stream",
     "text": [
      "[I 2025-08-30 20:04:54,799] Trial 38 finished with value: 0.6728431752906807 and parameters: {'model_type': 'xgb', 'xgb_n_estimators': 506, 'xgb_max_depth': 3, 'xgb_lr': 0.013809205742227134, 'xgb_subsample': 0.6275850136598596, 'xgb_colsample': 0.7741402979495506, 'xgb_alpha': 0.12712513365458816, 'xgb_lambda': 1.1751123641656253e-08, 'xgb_min_child_weight': 8, 'xgb_gamma': 1.733776316402445}. Best is trial 16 with value: 0.6729633709471536.\n"
     ]
    },
    {
     "name": "stderr",
     "output_type": "stream",
     "text": [
      "Best trial: 16. Best value: 0.672963: 100%|██████████| 40/40 [03:11<00:00,  4.78s/it]"
     ]
    },
    {
     "name": "stdout",
     "output_type": "stream",
     "text": [
      "[I 2025-08-30 20:04:55,558] Trial 39 pruned. \n",
      "Best value (PR-AUC): 0.6729633709471536\n",
      "Best params: {'model_type': 'xgb', 'xgb_n_estimators': 201, 'xgb_max_depth': 4, 'xgb_lr': 0.026604318470071057, 'xgb_subsample': 0.6794910626490949, 'xgb_colsample': 0.8538589681187536, 'xgb_alpha': 0.00012548964513500356, 'xgb_lambda': 8.088844275488134, 'xgb_min_child_weight': 4, 'xgb_gamma': 3.9520539561675396}\n"
     ]
    },
    {
     "name": "stderr",
     "output_type": "stream",
     "text": [
      "\n"
     ]
    }
   ],
   "source": [
    "# ⬅︎ Cell 7: Run study\n",
    "study = optuna.create_study(direction=\"maximize\", pruner=MedianPruner())\n",
    "study.optimize(objective, n_trials=40, timeout=None, n_jobs=1, show_progress_bar=True)\n",
    "\n",
    "print(\"Best value (PR-AUC):\", study.best_value)\n",
    "print(\"Best params:\", study.best_params)\n"
   ]
  },
  {
   "cell_type": "code",
   "execution_count": 8,
   "id": "1b154a44",
   "metadata": {},
   "outputs": [
    {
     "data": {
      "text/plain": [
       "{'roc_auc_train': 0.875278993886619,\n",
       " 'pr_auc_train': 0.7092686381097678,\n",
       " 'roc_auc_valid': 0.8440469420699268,\n",
       " 'pr_auc_valid': 0.6683111396512327}"
      ]
     },
     "execution_count": 8,
     "metadata": {},
     "output_type": "execute_result"
    }
   ],
   "source": [
    "# ⬅︎ Cell 8: Refit on train+valid and evaluate on test\n",
    "best = study.best_params\n",
    "best_type = best[\"model_type\"]\n",
    "\n",
    "if best_type == \"xgb\":\n",
    "    model = XGBClassifier(\n",
    "        n_estimators=best[\"xgb_n_estimators\"],\n",
    "        max_depth=best[\"xgb_max_depth\"],\n",
    "        learning_rate=best[\"xgb_lr\"],\n",
    "        subsample=best[\"xgb_subsample\"],\n",
    "        colsample_bytree=best[\"xgb_colsample\"],\n",
    "        reg_alpha=best[\"xgb_alpha\"],\n",
    "        reg_lambda=best[\"xgb_lambda\"],\n",
    "        min_child_weight=best[\"xgb_min_child_weight\"],\n",
    "        gamma=best[\"xgb_gamma\"],\n",
    "        random_state=RANDOM_STATE,\n",
    "        n_jobs=-1,\n",
    "        objective=\"binary:logistic\",\n",
    "        tree_method=\"hist\",\n",
    "        eval_metric=\"aucpr\",\n",
    "        scale_pos_weight=scale_pos_weight\n",
    "    )\n",
    "else:\n",
    "    model = LGBMClassifier(\n",
    "        n_estimators=best[\"lgbm_n_estimators\"],\n",
    "        num_leaves=best[\"lgbm_num_leaves\"],\n",
    "        learning_rate=best[\"lgbm_lr\"],\n",
    "        subsample=best[\"lgbm_subsample\"],\n",
    "        colsample_bytree=best[\"lgbm_colsample\"],\n",
    "        min_child_samples=best[\"lgbm_min_child_samples\"],\n",
    "        reg_alpha=best[\"lgbm_alpha\"],\n",
    "        reg_lambda=best[\"lgbm_lambda\"],\n",
    "        random_state=RANDOM_STATE,\n",
    "        n_jobs=-1,\n",
    "        objective=\"binary\",\n",
    "        metric=\"average_precision\",\n",
    "        verbose=-1,\n",
    "        scale_pos_weight=scale_pos_weight\n",
    "    )\n",
    "\n",
    "pipe_best = make_pipeline(model)\n",
    "pipe_best.fit(pd.concat([X_train, X_valid]), np.concatenate([y_train, y_valid]))\n",
    "\n",
    "# Evaluate\n",
    "metrics = evaluate(pipe_best, pd.concat([X_train, X_valid]), np.concatenate([y_train, y_valid]), X_test, y_test)\n",
    "metrics\n"
   ]
  },
  {
   "cell_type": "code",
   "execution_count": 9,
   "id": "a2bc4faa",
   "metadata": {},
   "outputs": [
    {
     "name": "stdout",
     "output_type": "stream",
     "text": [
      "Saved ../models/best_pipeline.pkl and ../models/metadata.json\n"
     ]
    }
   ],
   "source": [
    "# ⬅︎ Cell 9: Save artifacts\n",
    "os.makedirs(\"../models\", exist_ok=True)\n",
    "\n",
    "joblib.dump(pipe_best, \"../models/best_pipeline.pkl\")\n",
    "\n",
    "# שמירת מטא־דאטה כולל שמות פיצ'רים אחרי OneHot (יעיל להסברים וחשיבות פיצ'רים)\n",
    "# שים לב: get_feature_names_out קיים בגרסאות sklearn חדשות\n",
    "prep = pipe_best.named_steps[\"prep\"]\n",
    "feature_names = prep.get_feature_names_out()\n",
    "meta = {\n",
    "    \"model_type\": best_type,\n",
    "    \"best_params\": best,\n",
    "    \"feature_names\": feature_names.tolist()\n",
    "}\n",
    "with open(\"../models/metadata.json\", \"w\") as f:\n",
    "    json.dump(meta, f, indent=2)\n",
    "\n",
    "print(\"Saved ../models/best_pipeline.pkl and ../models/metadata.json\")\n"
   ]
  },
  {
   "cell_type": "code",
   "execution_count": 10,
   "id": "5920c5db",
   "metadata": {},
   "outputs": [
    {
     "data": {
      "text/html": [
       "<div>\n",
       "<style scoped>\n",
       "    .dataframe tbody tr th:only-of-type {\n",
       "        vertical-align: middle;\n",
       "    }\n",
       "\n",
       "    .dataframe tbody tr th {\n",
       "        vertical-align: top;\n",
       "    }\n",
       "\n",
       "    .dataframe thead th {\n",
       "        text-align: right;\n",
       "    }\n",
       "</style>\n",
       "<table border=\"1\" class=\"dataframe\">\n",
       "  <thead>\n",
       "    <tr style=\"text-align: right;\">\n",
       "      <th></th>\n",
       "      <th>feature</th>\n",
       "      <th>importance</th>\n",
       "    </tr>\n",
       "  </thead>\n",
       "  <tbody>\n",
       "    <tr>\n",
       "      <th>6032</th>\n",
       "      <td>cat__Contract_Month-to-month</td>\n",
       "      <td>0.227361</td>\n",
       "    </tr>\n",
       "    <tr>\n",
       "      <th>11</th>\n",
       "      <td>num__contract_term</td>\n",
       "      <td>0.182746</td>\n",
       "    </tr>\n",
       "    <tr>\n",
       "      <th>6012</th>\n",
       "      <td>cat__InternetService_Fiber optic</td>\n",
       "      <td>0.080113</td>\n",
       "    </tr>\n",
       "    <tr>\n",
       "      <th>8</th>\n",
       "      <td>num__has_fiber</td>\n",
       "      <td>0.051039</td>\n",
       "    </tr>\n",
       "    <tr>\n",
       "      <th>6013</th>\n",
       "      <td>cat__InternetService_No</td>\n",
       "      <td>0.033348</td>\n",
       "    </tr>\n",
       "    <tr>\n",
       "      <th>12</th>\n",
       "      <td>num__monthly_x_term</td>\n",
       "      <td>0.031696</td>\n",
       "    </tr>\n",
       "    <tr>\n",
       "      <th>6014</th>\n",
       "      <td>cat__OnlineSecurity_No</td>\n",
       "      <td>0.028228</td>\n",
       "    </tr>\n",
       "    <tr>\n",
       "      <th>6023</th>\n",
       "      <td>cat__TechSupport_No</td>\n",
       "      <td>0.024719</td>\n",
       "    </tr>\n",
       "    <tr>\n",
       "      <th>6039</th>\n",
       "      <td>cat__PaymentMethod_Electronic check</td>\n",
       "      <td>0.023015</td>\n",
       "    </tr>\n",
       "    <tr>\n",
       "      <th>4</th>\n",
       "      <td>num__tenure_years</td>\n",
       "      <td>0.020648</td>\n",
       "    </tr>\n",
       "    <tr>\n",
       "      <th>6034</th>\n",
       "      <td>cat__Contract_Two year</td>\n",
       "      <td>0.016078</td>\n",
       "    </tr>\n",
       "    <tr>\n",
       "      <th>1</th>\n",
       "      <td>num__tenure</td>\n",
       "      <td>0.014290</td>\n",
       "    </tr>\n",
       "    <tr>\n",
       "      <th>6031</th>\n",
       "      <td>cat__StreamingMovies_Yes</td>\n",
       "      <td>0.013032</td>\n",
       "    </tr>\n",
       "    <tr>\n",
       "      <th>9</th>\n",
       "      <td>num__is_electronic_check</td>\n",
       "      <td>0.013007</td>\n",
       "    </tr>\n",
       "    <tr>\n",
       "      <th>6006</th>\n",
       "      <td>cat__PhoneService_No</td>\n",
       "      <td>0.012081</td>\n",
       "    </tr>\n",
       "    <tr>\n",
       "      <th>6007</th>\n",
       "      <td>cat__PhoneService_Yes</td>\n",
       "      <td>0.011728</td>\n",
       "    </tr>\n",
       "    <tr>\n",
       "      <th>6028</th>\n",
       "      <td>cat__StreamingTV_Yes</td>\n",
       "      <td>0.010295</td>\n",
       "    </tr>\n",
       "    <tr>\n",
       "      <th>2</th>\n",
       "      <td>num__MonthlyCharges</td>\n",
       "      <td>0.010056</td>\n",
       "    </tr>\n",
       "    <tr>\n",
       "      <th>6017</th>\n",
       "      <td>cat__OnlineBackup_No</td>\n",
       "      <td>0.009645</td>\n",
       "    </tr>\n",
       "    <tr>\n",
       "      <th>6035</th>\n",
       "      <td>cat__PaperlessBilling_No</td>\n",
       "      <td>0.009290</td>\n",
       "    </tr>\n",
       "    <tr>\n",
       "      <th>5</th>\n",
       "      <td>num__charges_per_tenure</td>\n",
       "      <td>0.008109</td>\n",
       "    </tr>\n",
       "    <tr>\n",
       "      <th>6010</th>\n",
       "      <td>cat__MultipleLines_Yes</td>\n",
       "      <td>0.007727</td>\n",
       "    </tr>\n",
       "    <tr>\n",
       "      <th>3</th>\n",
       "      <td>num__TotalCharges_num</td>\n",
       "      <td>0.007480</td>\n",
       "    </tr>\n",
       "    <tr>\n",
       "      <th>6008</th>\n",
       "      <td>cat__MultipleLines_No</td>\n",
       "      <td>0.007284</td>\n",
       "    </tr>\n",
       "    <tr>\n",
       "      <th>6026</th>\n",
       "      <td>cat__StreamingTV_No</td>\n",
       "      <td>0.007260</td>\n",
       "    </tr>\n",
       "  </tbody>\n",
       "</table>\n",
       "</div>"
      ],
      "text/plain": [
       "                                  feature  importance\n",
       "6032         cat__Contract_Month-to-month    0.227361\n",
       "11                     num__contract_term    0.182746\n",
       "6012     cat__InternetService_Fiber optic    0.080113\n",
       "8                          num__has_fiber    0.051039\n",
       "6013              cat__InternetService_No    0.033348\n",
       "12                    num__monthly_x_term    0.031696\n",
       "6014               cat__OnlineSecurity_No    0.028228\n",
       "6023                  cat__TechSupport_No    0.024719\n",
       "6039  cat__PaymentMethod_Electronic check    0.023015\n",
       "4                       num__tenure_years    0.020648\n",
       "6034               cat__Contract_Two year    0.016078\n",
       "1                             num__tenure    0.014290\n",
       "6031             cat__StreamingMovies_Yes    0.013032\n",
       "9                num__is_electronic_check    0.013007\n",
       "6006                 cat__PhoneService_No    0.012081\n",
       "6007                cat__PhoneService_Yes    0.011728\n",
       "6028                 cat__StreamingTV_Yes    0.010295\n",
       "2                     num__MonthlyCharges    0.010056\n",
       "6017                 cat__OnlineBackup_No    0.009645\n",
       "6035             cat__PaperlessBilling_No    0.009290\n",
       "5                 num__charges_per_tenure    0.008109\n",
       "6010               cat__MultipleLines_Yes    0.007727\n",
       "3                   num__TotalCharges_num    0.007480\n",
       "6008                cat__MultipleLines_No    0.007284\n",
       "6026                  cat__StreamingTV_No    0.007260"
      ]
     },
     "metadata": {},
     "output_type": "display_data"
    }
   ],
   "source": [
    "# ⬅︎ Cell 10: Feature importance (top 25)\n",
    "import numpy as np\n",
    "def get_importances(pipe):\n",
    "    mdl = pipe.named_steps[\"model\"]\n",
    "    if hasattr(mdl, \"feature_importances_\"):\n",
    "        imp = mdl.feature_importances_\n",
    "    elif hasattr(mdl, \"booster_\") and hasattr(mdl.booster_, \"feature_importances_\"):\n",
    "        imp = mdl.booster_.feature_importances_\n",
    "    else:\n",
    "        return None\n",
    "    names = pipe.named_steps[\"prep\"].get_feature_names_out()\n",
    "    return pd.DataFrame({\"feature\": names, \"importance\": imp}).sort_values(\"importance\", ascending=False)\n",
    "\n",
    "fi = get_importances(pipe_best)\n",
    "if fi is not None:\n",
    "    display(fi.head(25))\n",
    "    fi.to_csv(\"../models/feature_importance_top.csv\", index=False)\n",
    "else:\n",
    "    print(\"No feature_importances_ available for this model.\")\n"
   ]
  },
  {
   "cell_type": "code",
   "execution_count": 11,
   "id": "4999d8b8",
   "metadata": {},
   "outputs": [
    {
     "name": "stdout",
     "output_type": "stream",
     "text": [
      "Smoke PR-AUC: 0.9691152348567608\n"
     ]
    }
   ],
   "source": [
    "# ⬅︎ Cell 11: Quick smoke test on a small sample\n",
    "Xs = X_train.sample(200, random_state=RANDOM_STATE)\n",
    "ys = y_train[np.isin(X_train.index, Xs.index)]\n",
    "\n",
    "pipe_smoke = make_pipeline(LGBMClassifier(n_estimators=50, random_state=RANDOM_STATE))\n",
    "pipe_smoke.fit(Xs, ys)\n",
    "proba = pipe_smoke.predict_proba(Xs)[:,1]\n",
    "print(\"Smoke PR-AUC:\", average_precision_score(ys, proba))\n"
   ]
  }
 ],
 "metadata": {
  "kernelspec": {
   "display_name": "churn-env",
   "language": "python",
   "name": "python3"
  },
  "language_info": {
   "codemirror_mode": {
    "name": "ipython",
    "version": 3
   },
   "file_extension": ".py",
   "mimetype": "text/x-python",
   "name": "python",
   "nbconvert_exporter": "python",
   "pygments_lexer": "ipython3",
   "version": "3.11.13"
  }
 },
 "nbformat": 4,
 "nbformat_minor": 5
}
