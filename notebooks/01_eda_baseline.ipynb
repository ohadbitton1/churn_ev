{
 "cells": [
  {
   "cell_type": "code",
   "execution_count": 13,
   "id": "21fc8708",
   "metadata": {},
   "outputs": [],
   "source": [
    "import pandas as pd\n",
    "from sklearn.compose import ColumnTransformer\n",
    "from sklearn.linear_model import LogisticRegression\n",
    "from sklearn.metrics import average_precision_score, roc_auc_score\n",
    "from sklearn.model_selection import train_test_split\n",
    "from sklearn.pipeline import Pipeline\n",
    "from sklearn.preprocessing import OneHotEncoder\n",
    "\n"
   ]
  },
  {
   "cell_type": "code",
   "execution_count": 14,
   "id": "fdb41950",
   "metadata": {},
   "outputs": [
    {
     "name": "stdout",
     "output_type": "stream",
     "text": [
      "(7043, 21)\n",
      "   customerID  gender  SeniorCitizen Partner Dependents  tenure PhoneService  \\\n",
      "0  7590-VHVEG  Female              0     Yes         No       1           No   \n",
      "1  5575-GNVDE    Male              0      No         No      34          Yes   \n",
      "2  3668-QPYBK    Male              0      No         No       2          Yes   \n",
      "3  7795-CFOCW    Male              0      No         No      45           No   \n",
      "4  9237-HQITU  Female              0      No         No       2          Yes   \n",
      "\n",
      "      MultipleLines InternetService OnlineSecurity  ... DeviceProtection  \\\n",
      "0  No phone service             DSL             No  ...               No   \n",
      "1                No             DSL            Yes  ...              Yes   \n",
      "2                No             DSL            Yes  ...               No   \n",
      "3  No phone service             DSL            Yes  ...              Yes   \n",
      "4                No     Fiber optic             No  ...               No   \n",
      "\n",
      "  TechSupport StreamingTV StreamingMovies        Contract PaperlessBilling  \\\n",
      "0          No          No              No  Month-to-month              Yes   \n",
      "1          No          No              No        One year               No   \n",
      "2          No          No              No  Month-to-month              Yes   \n",
      "3         Yes          No              No        One year               No   \n",
      "4          No          No              No  Month-to-month              Yes   \n",
      "\n",
      "               PaymentMethod MonthlyCharges  TotalCharges Churn  \n",
      "0           Electronic check          29.85         29.85    No  \n",
      "1               Mailed check          56.95        1889.5    No  \n",
      "2               Mailed check          53.85        108.15   Yes  \n",
      "3  Bank transfer (automatic)          42.30       1840.75    No  \n",
      "4           Electronic check          70.70        151.65   Yes  \n",
      "\n",
      "[5 rows x 21 columns]\n",
      "Churn\n",
      "No     5174\n",
      "Yes    1869\n",
      "Name: count, dtype: int64\n"
     ]
    }
   ],
   "source": [
    "# טוען את הדאטה מהתיקייה data/raw\n",
    "df = pd.read_csv(\"../data/raw/telco_churn.csv\")\n",
    "\n",
    "# הצגה ראשונית\n",
    "print(df.shape)\n",
    "print(df.head())\n",
    "print(df['Churn'].value_counts())\n"
   ]
  },
  {
   "cell_type": "code",
   "execution_count": 15,
   "id": "d5335446",
   "metadata": {},
   "outputs": [],
   "source": [
    "# --- ניקוי עמודת היעד ---\n",
    "# לפעמים יש רווחים/אותיות גדולות: ' Yes', 'No '\n",
    "df[\"Churn\"] = (\n",
    "    df[\"Churn\"].astype(str).str.strip().str.lower().map({\"yes\": 1, \"no\": 0})\n",
    ")\n",
    "# אם יש ערכים לא מוכרים, יווצרו NaN; נוודא שאין:\n",
    "assert df[\"Churn\"].isin([0, 1]).all(), df[\"Churn\"].unique()\n",
    "\n",
    "# --- תיקוני עמודות ידועות בטלקו (מומלץ) ---\n",
    "# TotalCharges לפעמים מגיעה כמחרוזת עם רווחים -> המרה למספר\n",
    "if \"TotalCharges\" in df.columns:\n",
    "    df[\"TotalCharges\"] = pd.to_numeric(df[\"TotalCharges\"], errors=\"coerce\")\n",
    "    df = df.dropna(subset=[\"TotalCharges\"])\n",
    "\n",
    "# מזהה לקוח לא שימושי למודל\n",
    "for col in [\"customerID\", \"customer_id\", \"CustomerID\"]:\n",
    "    if col in df.columns:\n",
    "        df = df.drop(columns=[col])\n",
    "\n",
    "# --- הכנת X,y ---\n",
    "y = df[\"Churn\"].astype(int)\n",
    "X = df.drop(columns=[\"Churn\"])\n",
    "\n",
    "# המרה של קטגוריות לדאמיז לבייסליין מהיר\n",
    "X = pd.get_dummies(X, drop_first=True)\n"
   ]
  },
  {
   "cell_type": "code",
   "execution_count": 16,
   "id": "60a0b160",
   "metadata": {},
   "outputs": [],
   "source": [
    "# מפרידים בין מאפיינים (X) למטרה (y)\n",
    "X = df.drop(\"Churn\", axis=1)\n",
    "y = df[\"Churn\"].astype(int)   # המרה ל-0/1 אם צריך\n",
    "\n",
    "# חלוקה ל-80% אימון ו-20% בדיקה\n",
    "X_train, X_test, y_train, y_test = train_test_split(\n",
    "    X, y, test_size=0.2, random_state=42, stratify=y\n",
    ")\n"
   ]
  },
  {
   "cell_type": "code",
   "execution_count": 17,
   "id": "623cc8a1",
   "metadata": {},
   "outputs": [
    {
     "name": "stdout",
     "output_type": "stream",
     "text": [
      "ROC-AUC: 0.8363069508363056\n",
      "PR-AUC: 0.6242470187773215\n"
     ]
    },
    {
     "name": "stderr",
     "output_type": "stream",
     "text": [
      "C:\\Users\\97254\\AppData\\Roaming\\Python\\Python311\\site-packages\\sklearn\\linear_model\\_logistic.py:469: ConvergenceWarning: lbfgs failed to converge (status=1):\n",
      "STOP: TOTAL NO. OF ITERATIONS REACHED LIMIT.\n",
      "\n",
      "Increase the number of iterations (max_iter) or scale the data as shown in:\n",
      "    https://scikit-learn.org/stable/modules/preprocessing.html\n",
      "Please also refer to the documentation for alternative solver options:\n",
      "    https://scikit-learn.org/stable/modules/linear_model.html#logistic-regression\n",
      "  n_iter_i = _check_optimize_result(\n"
     ]
    }
   ],
   "source": [
    "# זיהוי עמודות נומריות וקטגוריות\n",
    "num_cols = X.select_dtypes(include=[\"number\"]).columns.tolist()\n",
    "cat_cols = X.select_dtypes(exclude=[\"number\"]).columns.tolist()\n",
    "\n",
    "\n",
    "# טרנספורמציות: דאמים לקטגוריות, מעבר שקוף לנומריות\n",
    "preprocess = ColumnTransformer(\n",
    "    transformers=[\n",
    "        (\"num\", \"passthrough\", num_cols),\n",
    "        (\"cat\", OneHotEncoder(handle_unknown=\"ignore\", sparse_output=False), cat_cols),\n",
    "    ]\n",
    ")\n",
    "\n",
    "# פייפליין: קידוד -> מודל\n",
    "pipe = Pipeline(\n",
    "    steps=[\n",
    "        (\"prep\", preprocess),\n",
    "        (\"clf\", LogisticRegression(max_iter=1000))\n",
    "    ]\n",
    ")\n",
    "\n",
    "# אם עדיין לא עשית split, בטל הערה לשתי השורות הבאות:\n",
    "# from sklearn.model_selection import train_test_split\n",
    "# X_train, X_test, y_train, y_test = train_test_split(X, y, test_size=0.2, random_state=42, stratify=y)\n",
    "\n",
    "# אימון והערכה\n",
    "pipe.fit(X_train, y_train)\n",
    "y_pred_proba = pipe.predict_proba(X_test)[:, 1]\n",
    "\n",
    "print(\"ROC-AUC:\", roc_auc_score(y_test, y_pred_proba))\n",
    "print(\"PR-AUC:\", average_precision_score(y_test, y_pred_proba))\n"
   ]
  }
 ],
 "metadata": {
  "kernelspec": {
   "display_name": "churn-env",
   "language": "python",
   "name": "python3"
  },
  "language_info": {
   "codemirror_mode": {
    "name": "ipython",
    "version": 3
   },
   "file_extension": ".py",
   "mimetype": "text/x-python",
   "name": "python",
   "nbconvert_exporter": "python",
   "pygments_lexer": "ipython3",
   "version": "3.11.13"
  }
 },
 "nbformat": 4,
 "nbformat_minor": 5
}
